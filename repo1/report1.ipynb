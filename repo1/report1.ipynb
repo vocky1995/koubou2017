{
 "cells": [
  {
   "cell_type": "markdown",
   "metadata": {},
   "source": [
    "report1<br>\n",
    "for python3.6.0<br>\n",
    "AND,OR,NAND,XOR回路の作成<br>\n",
    "XORは入力x1,x2をNAND,ORの出力をANDにかける.<br>\n",
    "XORは線形分離不可能なので単純パーセプトロンでは実現できない."
   ]
  },
  {
   "cell_type": "code",
   "execution_count": 20,
   "metadata": {
    "collapsed": true
   },
   "outputs": [],
   "source": [
    "import numpy as np\n",
    "import pandas as pd"
   ]
  },
  {
   "cell_type": "code",
   "execution_count": 2,
   "metadata": {
    "collapsed": true
   },
   "outputs": [],
   "source": [
    "def AND(x1,x2):\n",
    "    \"\"\"\n",
    "    ANDゲート: 0.5*x1 + 0.5*x2 -0.7*1 = 0を境界とする.\n",
    "    \"\"\"\n",
    "    x = np.array([x1,x2])\n",
    "    w = np.array([0.5,0.5])\n",
    "    b = -0.7\n",
    "    y = np.sum(w*x)+b\n",
    "    return int(y>0)"
   ]
  },
  {
   "cell_type": "code",
   "execution_count": 3,
   "metadata": {
    "collapsed": true
   },
   "outputs": [],
   "source": [
    "def OR(x1,x2):\n",
    "    \"\"\"\n",
    "    ORゲート: 0.3*x1 + 0.3*x2 -0.1*1 = 0を境界とする.\n",
    "    \"\"\"\n",
    "    x = np.array([x1,x2])\n",
    "    w = np.array([0.3,0.3])\n",
    "    b = -0.1\n",
    "    y = np.sum(w*x)+b\n",
    "    return int(y>0)"
   ]
  },
  {
   "cell_type": "code",
   "execution_count": 4,
   "metadata": {
    "collapsed": true
   },
   "outputs": [],
   "source": [
    "def NAND(x1,x2):\n",
    "    \"\"\"\n",
    "    NANDゲート:NANDはANDの否定\n",
    "    \"\"\"\n",
    "    return 1-AND(x1,x2)"
   ]
  },
  {
   "cell_type": "code",
   "execution_count": 5,
   "metadata": {
    "collapsed": true
   },
   "outputs": [],
   "source": [
    "def XOR(x1,x2):\n",
    "    \"\"\"\n",
    "    XORゲート: NANDとORの出力をANDにかける\n",
    "    \"\"\"\n",
    "    s1 = NAND(x1,x2)\n",
    "    s2 = OR(x1,x2)\n",
    "    return AND(s1,s2)"
   ]
  },
  {
   "cell_type": "code",
   "execution_count": 6,
   "metadata": {
    "collapsed": true
   },
   "outputs": [],
   "source": [
    "def XOR2(x1,x2):\n",
    "    \"\"\"\n",
    "    XOR別解: x1 xor x2 = x1*(not x2) + (not x1)*x2\n",
    "    \"\"\"\n",
    "    s1 = AND(x1,1-x2)\n",
    "    s2 = AND(1-x1,x2)\n",
    "    return OR(s1,s2)"
   ]
  },
  {
   "cell_type": "code",
   "execution_count": 16,
   "metadata": {
    "collapsed": false
   },
   "outputs": [
    {
     "name": "stdout",
     "output_type": "stream",
     "text": [
      "AND\n",
      "(0, 0) -> 0\n",
      "(0, 1) -> 0\n",
      "(1, 0) -> 0\n",
      "(1, 1) -> 1\n",
      "OR\n",
      "(0, 0) -> 0\n",
      "(0, 1) -> 1\n",
      "(1, 0) -> 1\n",
      "(1, 1) -> 1\n",
      "NAND\n",
      "(0, 0) -> 1\n",
      "(0, 1) -> 1\n",
      "(1, 0) -> 1\n",
      "(1, 1) -> 0\n",
      "XOR\n",
      "(0, 0) -> 0\n",
      "(0, 1) -> 1\n",
      "(1, 0) -> 1\n",
      "(1, 1) -> 0\n"
     ]
    }
   ],
   "source": [
    "if __name__ == '__main__':\n",
    "    gate = [\"AND\",\"OR\",\"NAND\",\"XOR\"]\n",
    "    X = [(0,0),(0,1),(1,0),(1,1)]\n",
    "    for g in gate:\n",
    "        print(g)\n",
    "        for xs in X:\n",
    "            out = eval(g)(xs[0],xs[1])\n",
    "            print(str(xs) + \" -> \" + str(out))"
   ]
  },
  {
   "cell_type": "code",
   "execution_count": 17,
   "metadata": {
    "collapsed": true
   },
   "outputs": [],
   "source": [
    "#表形式で出力\n",
    "d = {}\n",
    "for g in gate:\n",
    "    d[g] = list(map(lambda xs:eval(g)(xs[0],xs[1]),X))"
   ]
  },
  {
   "cell_type": "code",
   "execution_count": 18,
   "metadata": {
    "collapsed": true
   },
   "outputs": [],
   "source": [
    "df = pd.DataFrame(data=d,index=X)"
   ]
  },
  {
   "cell_type": "code",
   "execution_count": 19,
   "metadata": {
    "collapsed": false
   },
   "outputs": [
    {
     "data": {
      "text/html": [
       "<div>\n",
       "<table border=\"1\" class=\"dataframe\">\n",
       "  <thead>\n",
       "    <tr style=\"text-align: right;\">\n",
       "      <th></th>\n",
       "      <th>AND</th>\n",
       "      <th>NAND</th>\n",
       "      <th>OR</th>\n",
       "      <th>XOR</th>\n",
       "    </tr>\n",
       "  </thead>\n",
       "  <tbody>\n",
       "    <tr>\n",
       "      <th>(0, 0)</th>\n",
       "      <td>0</td>\n",
       "      <td>1</td>\n",
       "      <td>0</td>\n",
       "      <td>0</td>\n",
       "    </tr>\n",
       "    <tr>\n",
       "      <th>(0, 1)</th>\n",
       "      <td>0</td>\n",
       "      <td>1</td>\n",
       "      <td>1</td>\n",
       "      <td>1</td>\n",
       "    </tr>\n",
       "    <tr>\n",
       "      <th>(1, 0)</th>\n",
       "      <td>0</td>\n",
       "      <td>1</td>\n",
       "      <td>1</td>\n",
       "      <td>1</td>\n",
       "    </tr>\n",
       "    <tr>\n",
       "      <th>(1, 1)</th>\n",
       "      <td>1</td>\n",
       "      <td>0</td>\n",
       "      <td>1</td>\n",
       "      <td>0</td>\n",
       "    </tr>\n",
       "  </tbody>\n",
       "</table>\n",
       "</div>"
      ],
      "text/plain": [
       "        AND  NAND  OR  XOR\n",
       "(0, 0)    0     1   0    0\n",
       "(0, 1)    0     1   1    1\n",
       "(1, 0)    0     1   1    1\n",
       "(1, 1)    1     0   1    0"
      ]
     },
     "execution_count": 19,
     "metadata": {},
     "output_type": "execute_result"
    }
   ],
   "source": [
    "df"
   ]
  },
  {
   "cell_type": "code",
   "execution_count": null,
   "metadata": {
    "collapsed": true
   },
   "outputs": [],
   "source": []
  }
 ],
 "metadata": {
  "kernelspec": {
   "display_name": "Python 3",
   "language": "python",
   "name": "python3"
  },
  "language_info": {
   "codemirror_mode": {
    "name": "ipython",
    "version": 3
   },
   "file_extension": ".py",
   "mimetype": "text/x-python",
   "name": "python",
   "nbconvert_exporter": "python",
   "pygments_lexer": "ipython3",
   "version": "3.6.0"
  }
 },
 "nbformat": 4,
 "nbformat_minor": 2
}
